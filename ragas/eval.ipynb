{
 "cells": [
  {
   "cell_type": "code",
   "execution_count": 4,
   "metadata": {},
   "outputs": [
    {
     "name": "stdout",
     "output_type": "stream",
     "text": [
      "Requirement already satisfied: ragas in /Users/SiM/Projects/private/ellie/.venv/lib/python3.12/site-packages (0.1.10)\n",
      "Requirement already satisfied: numpy in /Users/SiM/Projects/private/ellie/.venv/lib/python3.12/site-packages (from ragas) (1.26.4)\n",
      "Requirement already satisfied: datasets in /Users/SiM/Projects/private/ellie/.venv/lib/python3.12/site-packages (from ragas) (2.20.0)\n",
      "Requirement already satisfied: tiktoken in /Users/SiM/Projects/private/ellie/.venv/lib/python3.12/site-packages (from ragas) (0.7.0)\n",
      "Requirement already satisfied: langchain in /Users/SiM/Projects/private/ellie/.venv/lib/python3.12/site-packages (from ragas) (0.2.7)\n",
      "Requirement already satisfied: langchain-core in /Users/SiM/Projects/private/ellie/.venv/lib/python3.12/site-packages (from ragas) (0.2.18)\n",
      "Requirement already satisfied: langchain-community in /Users/SiM/Projects/private/ellie/.venv/lib/python3.12/site-packages (from ragas) (0.2.7)\n",
      "Requirement already satisfied: langchain-openai in /Users/SiM/Projects/private/ellie/.venv/lib/python3.12/site-packages (from ragas) (0.1.16)\n",
      "Requirement already satisfied: openai>1 in /Users/SiM/Projects/private/ellie/.venv/lib/python3.12/site-packages (from ragas) (1.35.13)\n",
      "Requirement already satisfied: pysbd>=0.3.4 in /Users/SiM/Projects/private/ellie/.venv/lib/python3.12/site-packages (from ragas) (0.3.4)\n",
      "Requirement already satisfied: nest-asyncio in /Users/SiM/Projects/private/ellie/.venv/lib/python3.12/site-packages (from ragas) (1.6.0)\n",
      "Requirement already satisfied: appdirs in /Users/SiM/Projects/private/ellie/.venv/lib/python3.12/site-packages (from ragas) (1.4.4)\n",
      "Requirement already satisfied: anyio<5,>=3.5.0 in /Users/SiM/Projects/private/ellie/.venv/lib/python3.12/site-packages (from openai>1->ragas) (4.4.0)\n",
      "Requirement already satisfied: distro<2,>=1.7.0 in /Users/SiM/Projects/private/ellie/.venv/lib/python3.12/site-packages (from openai>1->ragas) (1.9.0)\n",
      "Requirement already satisfied: httpx<1,>=0.23.0 in /Users/SiM/Projects/private/ellie/.venv/lib/python3.12/site-packages (from openai>1->ragas) (0.27.0)\n",
      "Requirement already satisfied: pydantic<3,>=1.9.0 in /Users/SiM/Projects/private/ellie/.venv/lib/python3.12/site-packages (from openai>1->ragas) (2.8.2)\n",
      "Requirement already satisfied: sniffio in /Users/SiM/Projects/private/ellie/.venv/lib/python3.12/site-packages (from openai>1->ragas) (1.3.1)\n",
      "Requirement already satisfied: tqdm>4 in /Users/SiM/Projects/private/ellie/.venv/lib/python3.12/site-packages (from openai>1->ragas) (4.66.4)\n",
      "Requirement already satisfied: typing-extensions<5,>=4.7 in /Users/SiM/Projects/private/ellie/.venv/lib/python3.12/site-packages (from openai>1->ragas) (4.12.2)\n",
      "Requirement already satisfied: filelock in /Users/SiM/Projects/private/ellie/.venv/lib/python3.12/site-packages (from datasets->ragas) (3.15.4)\n",
      "Requirement already satisfied: pyarrow>=15.0.0 in /Users/SiM/Projects/private/ellie/.venv/lib/python3.12/site-packages (from datasets->ragas) (16.1.0)\n",
      "Requirement already satisfied: pyarrow-hotfix in /Users/SiM/Projects/private/ellie/.venv/lib/python3.12/site-packages (from datasets->ragas) (0.6)\n",
      "Requirement already satisfied: dill<0.3.9,>=0.3.0 in /Users/SiM/Projects/private/ellie/.venv/lib/python3.12/site-packages (from datasets->ragas) (0.3.8)\n",
      "Requirement already satisfied: pandas in /Users/SiM/Projects/private/ellie/.venv/lib/python3.12/site-packages (from datasets->ragas) (2.2.2)\n",
      "Requirement already satisfied: requests>=2.32.2 in /Users/SiM/Projects/private/ellie/.venv/lib/python3.12/site-packages (from datasets->ragas) (2.32.3)\n",
      "Requirement already satisfied: xxhash in /Users/SiM/Projects/private/ellie/.venv/lib/python3.12/site-packages (from datasets->ragas) (3.4.1)\n",
      "Requirement already satisfied: multiprocess in /Users/SiM/Projects/private/ellie/.venv/lib/python3.12/site-packages (from datasets->ragas) (0.70.16)\n",
      "Requirement already satisfied: fsspec<=2024.5.0,>=2023.1.0 in /Users/SiM/Projects/private/ellie/.venv/lib/python3.12/site-packages (from fsspec[http]<=2024.5.0,>=2023.1.0->datasets->ragas) (2024.5.0)\n",
      "Requirement already satisfied: aiohttp in /Users/SiM/Projects/private/ellie/.venv/lib/python3.12/site-packages (from datasets->ragas) (3.9.5)\n",
      "Requirement already satisfied: huggingface-hub>=0.21.2 in /Users/SiM/Projects/private/ellie/.venv/lib/python3.12/site-packages (from datasets->ragas) (0.23.4)\n",
      "Requirement already satisfied: packaging in /Users/SiM/Projects/private/ellie/.venv/lib/python3.12/site-packages (from datasets->ragas) (24.1)\n",
      "Requirement already satisfied: pyyaml>=5.1 in /Users/SiM/Projects/private/ellie/.venv/lib/python3.12/site-packages (from datasets->ragas) (6.0.1)\n",
      "Requirement already satisfied: SQLAlchemy<3,>=1.4 in /Users/SiM/Projects/private/ellie/.venv/lib/python3.12/site-packages (from langchain->ragas) (2.0.31)\n",
      "Requirement already satisfied: langchain-text-splitters<0.3.0,>=0.2.0 in /Users/SiM/Projects/private/ellie/.venv/lib/python3.12/site-packages (from langchain->ragas) (0.2.2)\n",
      "Requirement already satisfied: langsmith<0.2.0,>=0.1.17 in /Users/SiM/Projects/private/ellie/.venv/lib/python3.12/site-packages (from langchain->ragas) (0.1.85)\n",
      "Requirement already satisfied: tenacity!=8.4.0,<9.0.0,>=8.1.0 in /Users/SiM/Projects/private/ellie/.venv/lib/python3.12/site-packages (from langchain->ragas) (8.5.0)\n",
      "Requirement already satisfied: jsonpatch<2.0,>=1.33 in /Users/SiM/Projects/private/ellie/.venv/lib/python3.12/site-packages (from langchain-core->ragas) (1.33)\n",
      "Requirement already satisfied: dataclasses-json<0.7,>=0.5.7 in /Users/SiM/Projects/private/ellie/.venv/lib/python3.12/site-packages (from langchain-community->ragas) (0.6.7)\n",
      "Requirement already satisfied: regex>=2022.1.18 in /Users/SiM/Projects/private/ellie/.venv/lib/python3.12/site-packages (from tiktoken->ragas) (2024.5.15)\n",
      "Requirement already satisfied: aiosignal>=1.1.2 in /Users/SiM/Projects/private/ellie/.venv/lib/python3.12/site-packages (from aiohttp->datasets->ragas) (1.3.1)\n",
      "Requirement already satisfied: attrs>=17.3.0 in /Users/SiM/Projects/private/ellie/.venv/lib/python3.12/site-packages (from aiohttp->datasets->ragas) (23.2.0)\n",
      "Requirement already satisfied: frozenlist>=1.1.1 in /Users/SiM/Projects/private/ellie/.venv/lib/python3.12/site-packages (from aiohttp->datasets->ragas) (1.4.1)\n",
      "Requirement already satisfied: multidict<7.0,>=4.5 in /Users/SiM/Projects/private/ellie/.venv/lib/python3.12/site-packages (from aiohttp->datasets->ragas) (6.0.5)\n",
      "Requirement already satisfied: yarl<2.0,>=1.0 in /Users/SiM/Projects/private/ellie/.venv/lib/python3.12/site-packages (from aiohttp->datasets->ragas) (1.9.4)\n",
      "Requirement already satisfied: idna>=2.8 in /Users/SiM/Projects/private/ellie/.venv/lib/python3.12/site-packages (from anyio<5,>=3.5.0->openai>1->ragas) (3.7)\n",
      "Requirement already satisfied: marshmallow<4.0.0,>=3.18.0 in /Users/SiM/Projects/private/ellie/.venv/lib/python3.12/site-packages (from dataclasses-json<0.7,>=0.5.7->langchain-community->ragas) (3.21.3)\n",
      "Requirement already satisfied: typing-inspect<1,>=0.4.0 in /Users/SiM/Projects/private/ellie/.venv/lib/python3.12/site-packages (from dataclasses-json<0.7,>=0.5.7->langchain-community->ragas) (0.9.0)\n",
      "Requirement already satisfied: certifi in /Users/SiM/Projects/private/ellie/.venv/lib/python3.12/site-packages (from httpx<1,>=0.23.0->openai>1->ragas) (2024.7.4)\n",
      "Requirement already satisfied: httpcore==1.* in /Users/SiM/Projects/private/ellie/.venv/lib/python3.12/site-packages (from httpx<1,>=0.23.0->openai>1->ragas) (1.0.5)\n",
      "Requirement already satisfied: h11<0.15,>=0.13 in /Users/SiM/Projects/private/ellie/.venv/lib/python3.12/site-packages (from httpcore==1.*->httpx<1,>=0.23.0->openai>1->ragas) (0.14.0)\n",
      "Requirement already satisfied: jsonpointer>=1.9 in /Users/SiM/Projects/private/ellie/.venv/lib/python3.12/site-packages (from jsonpatch<2.0,>=1.33->langchain-core->ragas) (3.0.0)\n",
      "Requirement already satisfied: orjson<4.0.0,>=3.9.14 in /Users/SiM/Projects/private/ellie/.venv/lib/python3.12/site-packages (from langsmith<0.2.0,>=0.1.17->langchain->ragas) (3.10.6)\n",
      "Requirement already satisfied: annotated-types>=0.4.0 in /Users/SiM/Projects/private/ellie/.venv/lib/python3.12/site-packages (from pydantic<3,>=1.9.0->openai>1->ragas) (0.7.0)\n",
      "Requirement already satisfied: pydantic-core==2.20.1 in /Users/SiM/Projects/private/ellie/.venv/lib/python3.12/site-packages (from pydantic<3,>=1.9.0->openai>1->ragas) (2.20.1)\n",
      "Requirement already satisfied: charset-normalizer<4,>=2 in /Users/SiM/Projects/private/ellie/.venv/lib/python3.12/site-packages (from requests>=2.32.2->datasets->ragas) (3.3.2)\n",
      "Requirement already satisfied: urllib3<3,>=1.21.1 in /Users/SiM/Projects/private/ellie/.venv/lib/python3.12/site-packages (from requests>=2.32.2->datasets->ragas) (2.2.2)\n",
      "Requirement already satisfied: python-dateutil>=2.8.2 in /Users/SiM/Projects/private/ellie/.venv/lib/python3.12/site-packages (from pandas->datasets->ragas) (2.9.0.post0)\n",
      "Requirement already satisfied: pytz>=2020.1 in /Users/SiM/Projects/private/ellie/.venv/lib/python3.12/site-packages (from pandas->datasets->ragas) (2024.1)\n",
      "Requirement already satisfied: tzdata>=2022.7 in /Users/SiM/Projects/private/ellie/.venv/lib/python3.12/site-packages (from pandas->datasets->ragas) (2024.1)\n",
      "Requirement already satisfied: six>=1.5 in /Users/SiM/Projects/private/ellie/.venv/lib/python3.12/site-packages (from python-dateutil>=2.8.2->pandas->datasets->ragas) (1.16.0)\n",
      "Requirement already satisfied: mypy-extensions>=0.3.0 in /Users/SiM/Projects/private/ellie/.venv/lib/python3.12/site-packages (from typing-inspect<1,>=0.4.0->dataclasses-json<0.7,>=0.5.7->langchain-community->ragas) (1.0.0)\n",
      "\n",
      "\u001b[1m[\u001b[0m\u001b[34;49mnotice\u001b[0m\u001b[1;39;49m]\u001b[0m\u001b[39;49m A new release of pip is available: \u001b[0m\u001b[31;49m24.1.2\u001b[0m\u001b[39;49m -> \u001b[0m\u001b[32;49m24.2\u001b[0m\n",
      "\u001b[1m[\u001b[0m\u001b[34;49mnotice\u001b[0m\u001b[1;39;49m]\u001b[0m\u001b[39;49m To update, run: \u001b[0m\u001b[32;49mpip install --upgrade pip\u001b[0m\n",
      "Note: you may need to restart the kernel to use updated packages.\n"
     ]
    }
   ],
   "source": [
    "%pip install ragas"
   ]
  },
  {
   "cell_type": "code",
   "execution_count": 5,
   "metadata": {},
   "outputs": [
    {
     "name": "stdout",
     "output_type": "stream",
     "text": [
      "                                            question  \\\n",
      "0  What are the different arcane traditions in wi...   \n",
      "1  What spells can a Tiefling cast as part of the...   \n",
      "2  What is the feature associated with the keyphr...   \n",
      "3  What is the effect of the Relentless Rage feat...   \n",
      "4          What are the class features of a Warlock?   \n",
      "\n",
      "                                            contexts  \\\n",
      "0  [Wizard\\n======\\nArcane Traditions\\n----------...   \n",
      "1  [Races\\n=====\\nTiefling\\n--------\\n### Tieflin...   \n",
      "2  [Wizard\\n======\\nArcane Traditions\\n----------...   \n",
      "3  [Barbarian\\n=========\\nClass Features\\n-------...   \n",
      "4  [Warlock\\n=======\\nClass Features\\n-----------...   \n",
      "\n",
      "                                        ground_truth  \\\n",
      "0  The most common arcane traditions in wizardry ...   \n",
      "1  The Tiefling can cast the thaumaturgy cantrip,...   \n",
      "2  The feature associated with the keyphrase \"Ele...   \n",
      "3  Starting at 11th level, the Relentless Rage fe...   \n",
      "4  As a warlock, you gain the following class fea...   \n",
      "\n",
      "                                              answer  \n",
      "0  b\"The various arcane traditions in wizardry ar...  \n",
      "1  b\"A Tiefling's Infernal Legacy trait is associ...  \n",
      "2  b'The provided context does not include the te...  \n",
      "3  b\"The Relentless Rage feature allows a barbari...  \n",
      "4  b\"The class features of a Warlock include:\\n\\n...  \n"
     ]
    }
   ],
   "source": [
    "import json\n",
    "import pandas as pd\n",
    "import pyarrow as pa\n",
    "from datasets import Dataset\n",
    "\n",
    "path = 'evalSet.csv'\n",
    "df = pd.read_csv(path)\n",
    "df[\"contexts\"] = df[\"contexts\"].apply(json.loads)\n",
    "df = df.drop(columns=[\"evolution_type\", \"episode_done\", \"generated_contexts\", \"metadata\"])\n",
    "print(df.head())\n",
    "dataset = Dataset.from_pandas(df)"
   ]
  },
  {
   "cell_type": "code",
   "execution_count": 6,
   "metadata": {},
   "outputs": [
    {
     "ename": "ValidationError",
     "evalue": "1 validation error for ChatOpenAI\n__root__\n  Did not find openai_api_key, please add an environment variable `OPENAI_API_KEY` which contains it, or pass `openai_api_key` as a named parameter. (type=value_error)",
     "output_type": "error",
     "traceback": [
      "\u001b[0;31m---------------------------------------------------------------------------\u001b[0m",
      "\u001b[0;31mValidationError\u001b[0m                           Traceback (most recent call last)",
      "Cell \u001b[0;32mIn[6], line 18\u001b[0m\n\u001b[1;32m     15\u001b[0m run_config\u001b[38;5;241m.\u001b[39mthread_timeout \u001b[38;5;241m=\u001b[39m \u001b[38;5;241m120\u001b[39m\n\u001b[1;32m     16\u001b[0m run_config\u001b[38;5;241m.\u001b[39mmax_workers \u001b[38;5;241m=\u001b[39m \u001b[38;5;241m4\u001b[39m\n\u001b[0;32m---> 18\u001b[0m result \u001b[38;5;241m=\u001b[39m \u001b[43mevaluate\u001b[49m\u001b[43m(\u001b[49m\n\u001b[1;32m     19\u001b[0m \u001b[43m    \u001b[49m\u001b[43mdataset\u001b[49m\u001b[38;5;241;43m=\u001b[39;49m\u001b[43mdataset\u001b[49m\u001b[43m,\u001b[49m\n\u001b[1;32m     20\u001b[0m \u001b[43m    \u001b[49m\u001b[43mmetrics\u001b[49m\u001b[38;5;241;43m=\u001b[39;49m\u001b[43m[\u001b[49m\n\u001b[1;32m     21\u001b[0m \u001b[43m        \u001b[49m\u001b[43mcontext_precision\u001b[49m\u001b[43m,\u001b[49m\n\u001b[1;32m     22\u001b[0m \u001b[43m        \u001b[49m\u001b[43mfaithfulness\u001b[49m\u001b[43m,\u001b[49m\n\u001b[1;32m     23\u001b[0m \u001b[43m        \u001b[49m\u001b[43manswer_relevancy\u001b[49m\u001b[43m,\u001b[49m\n\u001b[1;32m     24\u001b[0m \u001b[43m        \u001b[49m\u001b[43mcontext_recall\u001b[49m\u001b[43m,\u001b[49m\n\u001b[1;32m     25\u001b[0m \u001b[43m    \u001b[49m\u001b[43m]\u001b[49m\u001b[43m,\u001b[49m\n\u001b[1;32m     26\u001b[0m \u001b[43m    \u001b[49m\u001b[43mrun_config\u001b[49m\u001b[38;5;241;43m=\u001b[39;49m\u001b[43mrun_config\u001b[49m\u001b[43m,\u001b[49m\n\u001b[1;32m     27\u001b[0m \u001b[43m    \u001b[49m\u001b[43mis_async\u001b[49m\u001b[38;5;241;43m=\u001b[39;49m\u001b[38;5;28;43;01mFalse\u001b[39;49;00m\u001b[43m,\u001b[49m\n\u001b[1;32m     28\u001b[0m \u001b[43m)\u001b[49m\n\u001b[1;32m     30\u001b[0m result\n\u001b[1;32m     31\u001b[0m resultPandas \u001b[38;5;241m=\u001b[39m result\u001b[38;5;241m.\u001b[39mto_pandas()\n",
      "File \u001b[0;32m~/Projects/private/ellie/.venv/lib/python3.12/site-packages/ragas/evaluation.py:179\u001b[0m, in \u001b[0;36mevaluate\u001b[0;34m(dataset, metrics, llm, embeddings, callbacks, in_ci, is_async, run_config, raise_exceptions, column_map)\u001b[0m\n\u001b[1;32m    177\u001b[0m \u001b[38;5;28;01mif\u001b[39;00m \u001b[38;5;28misinstance\u001b[39m(metric, MetricWithLLM) \u001b[38;5;129;01mand\u001b[39;00m metric\u001b[38;5;241m.\u001b[39mllm \u001b[38;5;129;01mis\u001b[39;00m \u001b[38;5;28;01mNone\u001b[39;00m:\n\u001b[1;32m    178\u001b[0m     \u001b[38;5;28;01mif\u001b[39;00m llm \u001b[38;5;129;01mis\u001b[39;00m \u001b[38;5;28;01mNone\u001b[39;00m:\n\u001b[0;32m--> 179\u001b[0m         llm \u001b[38;5;241m=\u001b[39m \u001b[43mllm_factory\u001b[49m\u001b[43m(\u001b[49m\u001b[43m)\u001b[49m\n\u001b[1;32m    180\u001b[0m     metric\u001b[38;5;241m.\u001b[39mllm \u001b[38;5;241m=\u001b[39m llm\n\u001b[1;32m    181\u001b[0m     llm_changed\u001b[38;5;241m.\u001b[39mappend(i)\n",
      "File \u001b[0;32m~/Projects/private/ellie/.venv/lib/python3.12/site-packages/ragas/llms/base.py:285\u001b[0m, in \u001b[0;36mllm_factory\u001b[0;34m(model, run_config)\u001b[0m\n\u001b[1;32m    283\u001b[0m \u001b[38;5;28;01mif\u001b[39;00m run_config \u001b[38;5;129;01mis\u001b[39;00m \u001b[38;5;129;01mnot\u001b[39;00m \u001b[38;5;28;01mNone\u001b[39;00m:\n\u001b[1;32m    284\u001b[0m     timeout \u001b[38;5;241m=\u001b[39m run_config\u001b[38;5;241m.\u001b[39mtimeout\n\u001b[0;32m--> 285\u001b[0m openai_model \u001b[38;5;241m=\u001b[39m \u001b[43mChatOpenAI\u001b[49m\u001b[43m(\u001b[49m\u001b[43mmodel\u001b[49m\u001b[38;5;241;43m=\u001b[39;49m\u001b[43mmodel\u001b[49m\u001b[43m,\u001b[49m\u001b[43m \u001b[49m\u001b[43mtimeout\u001b[49m\u001b[38;5;241;43m=\u001b[39;49m\u001b[43mtimeout\u001b[49m\u001b[43m)\u001b[49m\n\u001b[1;32m    286\u001b[0m \u001b[38;5;28;01mreturn\u001b[39;00m LangchainLLMWrapper(openai_model, run_config)\n",
      "File \u001b[0;32m~/Projects/private/ellie/.venv/lib/python3.12/site-packages/pydantic/v1/main.py:341\u001b[0m, in \u001b[0;36mBaseModel.__init__\u001b[0;34m(__pydantic_self__, **data)\u001b[0m\n\u001b[1;32m    339\u001b[0m values, fields_set, validation_error \u001b[38;5;241m=\u001b[39m validate_model(__pydantic_self__\u001b[38;5;241m.\u001b[39m\u001b[38;5;18m__class__\u001b[39m, data)\n\u001b[1;32m    340\u001b[0m \u001b[38;5;28;01mif\u001b[39;00m validation_error:\n\u001b[0;32m--> 341\u001b[0m     \u001b[38;5;28;01mraise\u001b[39;00m validation_error\n\u001b[1;32m    342\u001b[0m \u001b[38;5;28;01mtry\u001b[39;00m:\n\u001b[1;32m    343\u001b[0m     object_setattr(__pydantic_self__, \u001b[38;5;124m'\u001b[39m\u001b[38;5;124m__dict__\u001b[39m\u001b[38;5;124m'\u001b[39m, values)\n",
      "\u001b[0;31mValidationError\u001b[0m: 1 validation error for ChatOpenAI\n__root__\n  Did not find openai_api_key, please add an environment variable `OPENAI_API_KEY` which contains it, or pass `openai_api_key` as a named parameter. (type=value_error)"
     ]
    }
   ],
   "source": [
    "from ragas.metrics import (\n",
    "    answer_relevancy,\n",
    "    faithfulness,\n",
    "    context_recall,\n",
    "    context_precision,\n",
    ")\n",
    "\n",
    "from ragas import RunConfig, evaluate\n",
    "import nest_asyncio\n",
    "nest_asyncio.apply()\n",
    "\n",
    "\n",
    "run_config = RunConfig()\n",
    "run_config.timeout = 120\n",
    "run_config.thread_timeout = 120\n",
    "run_config.max_workers = 4\n",
    "\n",
    "result = evaluate(\n",
    "    dataset=dataset,\n",
    "    metrics=[\n",
    "        context_precision,\n",
    "        faithfulness,\n",
    "        answer_relevancy,\n",
    "        context_recall,\n",
    "    ],\n",
    "    run_config=run_config,\n",
    "    is_async=False,\n",
    ")\n",
    "\n",
    "result\n",
    "resultPandas = result.to_pandas()\n",
    "display(resultPandas)"
   ]
  },
  {
   "cell_type": "code",
   "execution_count": null,
   "metadata": {},
   "outputs": [
    {
     "data": {
      "text/plain": [
       "{'context_precision': 0.8942, 'faithfulness': 0.8507, 'answer_relevancy': 0.9427, 'context_recall': 0.7726}"
      ]
     },
     "execution_count": 115,
     "metadata": {},
     "output_type": "execute_result"
    }
   ],
   "source": [
    "resultPandas.to_csv(\"result.csv\", index=False)\n",
    "result\n",
    "# [0.9313194444180828, 0.925, 0.908733879753922, 0.8966666666666667]\n",
    "# {'context_precision': 0.9383, 'faithfulness': 0.9750, 'answer_relevancy': 0.9098, 'context_recall': 0.9025}\n",
    "# {'context_precision': 0.9373, 'faithfulness': 0.9750, 'answer_relevancy': 0.9094, 'context_recall': 0.8925}\n",
    "# {'context_precision': 0.9433, 'faithfulness': 0.9474, 'answer_relevancy': 0.9082, 'context_recall': 0.9025}\n",
    "# {'context_precision': 0.9401, 'faithfulness': 0.9750, 'answer_relevancy': 0.9120, 'context_recall': 0.9025}\n",
    "# {'context_precision': 0.9481, 'faithfulness': 0.9150, 'answer_relevancy': 0.9068, 'context_recall': 0.8811}\n",
    "\n",
    "# {'context_precision': 0.8856, 'faithfulness': 0.8379, 'answer_relevancy': 0.9451, 'context_recall': 0.7946}\n",
    "# {'context_precision': 0.8942, 'faithfulness': 0.8507, 'answer_relevancy': 0.9427, 'context_recall': 0.7726}\n"
   ]
  }
 ],
 "metadata": {
  "kernelspec": {
   "display_name": ".venv",
   "language": "python",
   "name": "python3"
  },
  "language_info": {
   "codemirror_mode": {
    "name": "ipython",
    "version": 3
   },
   "file_extension": ".py",
   "mimetype": "text/x-python",
   "name": "python",
   "nbconvert_exporter": "python",
   "pygments_lexer": "ipython3",
   "version": "3.12.2"
  }
 },
 "nbformat": 4,
 "nbformat_minor": 2
}
